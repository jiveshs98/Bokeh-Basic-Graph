{
 "cells": [
  {
   "cell_type": "code",
   "execution_count": 1,
   "metadata": {},
   "outputs": [],
   "source": [
    "# Using multiple glyphs in one plot\n",
    "\n",
    "# Importing libraries\n",
    "from bokeh.plotting import figure\n",
    "from bokeh.io import output_file, show\n",
    "\n",
    "# Creating figure object\n",
    "p = figure(plot_width=500, plot_height=400, tools = 'pan, reset, save')\n",
    "p.title.text = \"Earthquakes\"\n",
    "p.title.text_color = \"Orange\"\n",
    "p.title.text_font = \"times\"\n",
    "p.title.text_font_style = \"italic\"\n",
    "p.yaxis.minor_tick_line_color = \"Yellow\"\n",
    "p.xaxis.axis_label = \"Times\"\n",
    "p.yaxis.axis_label = \"Value\"\n",
    "\n",
    "# Plotting the points in the graph\n",
    "p.line([1,2,3,4,5],[5,6,5,5,3],line_width=2,color=\"red\",alpha=0.5)\n",
    "p.circle([i*2 for i in [1,2,3,4,5]], [5,6,5,5,3], size = 8, color=\"green\", alpha=0.5)\n",
    "\n",
    "# Preparing the output file\n",
    "output_file(\"multiple_glyphs.html\")\n",
    "\n",
    "# Showing the output\n",
    "show(p)"
   ]
  },
  {
   "cell_type": "code",
   "execution_count": null,
   "metadata": {},
   "outputs": [],
   "source": []
  }
 ],
 "metadata": {
  "kernelspec": {
   "display_name": "Python 3",
   "language": "python",
   "name": "python3"
  },
  "language_info": {
   "codemirror_mode": {
    "name": "ipython",
    "version": 3
   },
   "file_extension": ".py",
   "mimetype": "text/x-python",
   "name": "python",
   "nbconvert_exporter": "python",
   "pygments_lexer": "ipython3",
   "version": "3.7.0"
  }
 },
 "nbformat": 4,
 "nbformat_minor": 2
}
